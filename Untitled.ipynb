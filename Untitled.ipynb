{
 "cells": [
  {
   "cell_type": "markdown",
   "id": "46a888c1",
   "metadata": {},
   "source": [
    "## EDA ON CYCLONE DATASET"
   ]
  },
  {
   "cell_type": "code",
   "execution_count": 77,
   "id": "3c27875e",
   "metadata": {},
   "outputs": [],
   "source": [
    "import numpy as np\n",
    "import matplotlib.pyplot as plt\n",
    "import pandas as pd\n",
    "from sklearn.preprocessing import StandardScaler\n",
    "import seaborn as sns\n",
    "import warnings\n",
    "warnings.filterwarnings(\"ignore\")\n",
    "%matplotlib inline\n"
   ]
  },
  {
   "cell_type": "code",
   "execution_count": 13,
   "id": "6a27b3ee",
   "metadata": {},
   "outputs": [],
   "source": [
    "df=pd.read_csv('data.csv')\n",
    "df=df.iloc[:,1:]"
   ]
  },
  {
   "cell_type": "code",
   "execution_count": 14,
   "id": "0399e136",
   "metadata": {},
   "outputs": [
    {
     "data": {
      "text/html": [
       "<div>\n",
       "<style scoped>\n",
       "    .dataframe tbody tr th:only-of-type {\n",
       "        vertical-align: middle;\n",
       "    }\n",
       "\n",
       "    .dataframe tbody tr th {\n",
       "        vertical-align: top;\n",
       "    }\n",
       "\n",
       "    .dataframe thead th {\n",
       "        text-align: right;\n",
       "    }\n",
       "</style>\n",
       "<table border=\"1\" class=\"dataframe\">\n",
       "  <thead>\n",
       "    <tr style=\"text-align: right;\">\n",
       "      <th></th>\n",
       "      <th>Cyclone_Inlet_Gas_Temp</th>\n",
       "      <th>Cyclone_Material_Temp</th>\n",
       "      <th>Cyclone_Outlet_Gas_draft</th>\n",
       "      <th>Cyclone_cone_draft</th>\n",
       "      <th>Cyclone_Gas_Outlet_Temp</th>\n",
       "      <th>Cyclone_Inlet_Draft</th>\n",
       "    </tr>\n",
       "  </thead>\n",
       "  <tbody>\n",
       "    <tr>\n",
       "      <th>0</th>\n",
       "      <td>867.63</td>\n",
       "      <td>910.42</td>\n",
       "      <td>-189.54</td>\n",
       "      <td>-186.04</td>\n",
       "      <td>852.13</td>\n",
       "      <td>-145.9</td>\n",
       "    </tr>\n",
       "    <tr>\n",
       "      <th>1</th>\n",
       "      <td>879.23</td>\n",
       "      <td>918.14</td>\n",
       "      <td>-184.33</td>\n",
       "      <td>-182.1</td>\n",
       "      <td>862.53</td>\n",
       "      <td>-149.76</td>\n",
       "    </tr>\n",
       "    <tr>\n",
       "      <th>2</th>\n",
       "      <td>875.67</td>\n",
       "      <td>924.18</td>\n",
       "      <td>-181.26</td>\n",
       "      <td>-166.47</td>\n",
       "      <td>866.06</td>\n",
       "      <td>-145.01</td>\n",
       "    </tr>\n",
       "    <tr>\n",
       "      <th>3</th>\n",
       "      <td>875.28</td>\n",
       "      <td>923.15</td>\n",
       "      <td>-179.15</td>\n",
       "      <td>-174.83</td>\n",
       "      <td>865.85</td>\n",
       "      <td>-142.82</td>\n",
       "    </tr>\n",
       "    <tr>\n",
       "      <th>4</th>\n",
       "      <td>891.66</td>\n",
       "      <td>934.26</td>\n",
       "      <td>-178.32</td>\n",
       "      <td>-173.72</td>\n",
       "      <td>876.06</td>\n",
       "      <td>-143.39</td>\n",
       "    </tr>\n",
       "  </tbody>\n",
       "</table>\n",
       "</div>"
      ],
      "text/plain": [
       "  Cyclone_Inlet_Gas_Temp Cyclone_Material_Temp Cyclone_Outlet_Gas_draft  \\\n",
       "0                 867.63                910.42                  -189.54   \n",
       "1                 879.23                918.14                  -184.33   \n",
       "2                 875.67                924.18                  -181.26   \n",
       "3                 875.28                923.15                  -179.15   \n",
       "4                 891.66                934.26                  -178.32   \n",
       "\n",
       "  Cyclone_cone_draft Cyclone_Gas_Outlet_Temp Cyclone_Inlet_Draft  \n",
       "0            -186.04                  852.13              -145.9  \n",
       "1             -182.1                  862.53             -149.76  \n",
       "2            -166.47                  866.06             -145.01  \n",
       "3            -174.83                  865.85             -142.82  \n",
       "4            -173.72                  876.06             -143.39  "
      ]
     },
     "execution_count": 14,
     "metadata": {},
     "output_type": "execute_result"
    }
   ],
   "source": [
    "df.head()"
   ]
  },
  {
   "cell_type": "code",
   "execution_count": 44,
   "id": "d377fd13",
   "metadata": {},
   "outputs": [],
   "source": [
    "features=df.columns"
   ]
  },
  {
   "cell_type": "markdown",
   "id": "8441b321",
   "metadata": {},
   "source": [
    "It seems that all of the columns contain neumerial vlaues but "
   ]
  },
  {
   "cell_type": "code",
   "execution_count": 46,
   "id": "4c5ee0bb",
   "metadata": {},
   "outputs": [
    {
     "data": {
      "text/plain": [
       "6"
      ]
     },
     "execution_count": 46,
     "metadata": {},
     "output_type": "execute_result"
    }
   ],
   "source": [
    "len(features)"
   ]
  },
  {
   "cell_type": "code",
   "execution_count": 48,
   "id": "2c7e153e",
   "metadata": {},
   "outputs": [
    {
     "data": {
      "text/plain": [
       "0         867.63\n",
       "1         879.23\n",
       "2         875.67\n",
       "3         875.28\n",
       "4         891.66\n",
       "           ...  \n",
       "377714    899.42\n",
       "377715     879.9\n",
       "377716     887.2\n",
       "377717     908.5\n",
       "377718    880.86\n",
       "Name: Cyclone_Inlet_Gas_Temp, Length: 377719, dtype: object"
      ]
     },
     "execution_count": 48,
     "metadata": {},
     "output_type": "execute_result"
    }
   ],
   "source": [
    "df.loc[:,'Cyclone_Inlet_Gas_Temp']"
   ]
  },
  {
   "cell_type": "code",
   "execution_count": 49,
   "id": "1b77c690",
   "metadata": {},
   "outputs": [],
   "source": [
    "for feature in features:\n",
    "    df[feature]=pd.to_numeric(df[feature],errors='coerce')\n",
    "    "
   ]
  },
  {
   "cell_type": "code",
   "execution_count": 50,
   "id": "08456b43",
   "metadata": {},
   "outputs": [
    {
     "data": {
      "text/html": [
       "<div>\n",
       "<style scoped>\n",
       "    .dataframe tbody tr th:only-of-type {\n",
       "        vertical-align: middle;\n",
       "    }\n",
       "\n",
       "    .dataframe tbody tr th {\n",
       "        vertical-align: top;\n",
       "    }\n",
       "\n",
       "    .dataframe thead th {\n",
       "        text-align: right;\n",
       "    }\n",
       "</style>\n",
       "<table border=\"1\" class=\"dataframe\">\n",
       "  <thead>\n",
       "    <tr style=\"text-align: right;\">\n",
       "      <th></th>\n",
       "      <th>Cyclone_Inlet_Gas_Temp</th>\n",
       "      <th>Cyclone_Material_Temp</th>\n",
       "      <th>Cyclone_Outlet_Gas_draft</th>\n",
       "      <th>Cyclone_cone_draft</th>\n",
       "      <th>Cyclone_Gas_Outlet_Temp</th>\n",
       "      <th>Cyclone_Inlet_Draft</th>\n",
       "    </tr>\n",
       "  </thead>\n",
       "  <tbody>\n",
       "    <tr>\n",
       "      <th>0</th>\n",
       "      <td>867.63</td>\n",
       "      <td>910.42</td>\n",
       "      <td>-189.54</td>\n",
       "      <td>-186.04</td>\n",
       "      <td>852.13</td>\n",
       "      <td>-145.90</td>\n",
       "    </tr>\n",
       "    <tr>\n",
       "      <th>1</th>\n",
       "      <td>879.23</td>\n",
       "      <td>918.14</td>\n",
       "      <td>-184.33</td>\n",
       "      <td>-182.10</td>\n",
       "      <td>862.53</td>\n",
       "      <td>-149.76</td>\n",
       "    </tr>\n",
       "    <tr>\n",
       "      <th>2</th>\n",
       "      <td>875.67</td>\n",
       "      <td>924.18</td>\n",
       "      <td>-181.26</td>\n",
       "      <td>-166.47</td>\n",
       "      <td>866.06</td>\n",
       "      <td>-145.01</td>\n",
       "    </tr>\n",
       "    <tr>\n",
       "      <th>3</th>\n",
       "      <td>875.28</td>\n",
       "      <td>923.15</td>\n",
       "      <td>-179.15</td>\n",
       "      <td>-174.83</td>\n",
       "      <td>865.85</td>\n",
       "      <td>-142.82</td>\n",
       "    </tr>\n",
       "    <tr>\n",
       "      <th>4</th>\n",
       "      <td>891.66</td>\n",
       "      <td>934.26</td>\n",
       "      <td>-178.32</td>\n",
       "      <td>-173.72</td>\n",
       "      <td>876.06</td>\n",
       "      <td>-143.39</td>\n",
       "    </tr>\n",
       "  </tbody>\n",
       "</table>\n",
       "</div>"
      ],
      "text/plain": [
       "   Cyclone_Inlet_Gas_Temp  Cyclone_Material_Temp  Cyclone_Outlet_Gas_draft  \\\n",
       "0                  867.63                 910.42                   -189.54   \n",
       "1                  879.23                 918.14                   -184.33   \n",
       "2                  875.67                 924.18                   -181.26   \n",
       "3                  875.28                 923.15                   -179.15   \n",
       "4                  891.66                 934.26                   -178.32   \n",
       "\n",
       "   Cyclone_cone_draft  Cyclone_Gas_Outlet_Temp  Cyclone_Inlet_Draft  \n",
       "0             -186.04                   852.13              -145.90  \n",
       "1             -182.10                   862.53              -149.76  \n",
       "2             -166.47                   866.06              -145.01  \n",
       "3             -174.83                   865.85              -142.82  \n",
       "4             -173.72                   876.06              -143.39  "
      ]
     },
     "execution_count": 50,
     "metadata": {},
     "output_type": "execute_result"
    }
   ],
   "source": [
    "df.head()"
   ]
  },
  {
   "cell_type": "code",
   "execution_count": 51,
   "id": "2931d126",
   "metadata": {},
   "outputs": [
    {
     "data": {
      "text/html": [
       "<div>\n",
       "<style scoped>\n",
       "    .dataframe tbody tr th:only-of-type {\n",
       "        vertical-align: middle;\n",
       "    }\n",
       "\n",
       "    .dataframe tbody tr th {\n",
       "        vertical-align: top;\n",
       "    }\n",
       "\n",
       "    .dataframe thead th {\n",
       "        text-align: right;\n",
       "    }\n",
       "</style>\n",
       "<table border=\"1\" class=\"dataframe\">\n",
       "  <thead>\n",
       "    <tr style=\"text-align: right;\">\n",
       "      <th></th>\n",
       "      <th>Cyclone_Inlet_Gas_Temp</th>\n",
       "      <th>Cyclone_Material_Temp</th>\n",
       "      <th>Cyclone_Outlet_Gas_draft</th>\n",
       "      <th>Cyclone_cone_draft</th>\n",
       "      <th>Cyclone_Gas_Outlet_Temp</th>\n",
       "      <th>Cyclone_Inlet_Draft</th>\n",
       "    </tr>\n",
       "  </thead>\n",
       "  <tbody>\n",
       "    <tr>\n",
       "      <th>count</th>\n",
       "      <td>376399.000000</td>\n",
       "      <td>376128.000000</td>\n",
       "      <td>376398.000000</td>\n",
       "      <td>376399.000000</td>\n",
       "      <td>376398.000000</td>\n",
       "      <td>376397.000000</td>\n",
       "    </tr>\n",
       "    <tr>\n",
       "      <th>mean</th>\n",
       "      <td>727.348549</td>\n",
       "      <td>750.830483</td>\n",
       "      <td>-177.820685</td>\n",
       "      <td>-164.572619</td>\n",
       "      <td>715.759972</td>\n",
       "      <td>-141.302857</td>\n",
       "    </tr>\n",
       "    <tr>\n",
       "      <th>std</th>\n",
       "      <td>328.664814</td>\n",
       "      <td>350.921068</td>\n",
       "      <td>99.147236</td>\n",
       "      <td>90.103023</td>\n",
       "      <td>325.346446</td>\n",
       "      <td>77.615576</td>\n",
       "    </tr>\n",
       "    <tr>\n",
       "      <th>min</th>\n",
       "      <td>0.000000</td>\n",
       "      <td>-185.000000</td>\n",
       "      <td>-456.660000</td>\n",
       "      <td>-459.310000</td>\n",
       "      <td>13.790000</td>\n",
       "      <td>-396.370000</td>\n",
       "    </tr>\n",
       "    <tr>\n",
       "      <th>25%</th>\n",
       "      <td>856.270000</td>\n",
       "      <td>867.667500</td>\n",
       "      <td>-247.190000</td>\n",
       "      <td>-226.770000</td>\n",
       "      <td>801.960000</td>\n",
       "      <td>-193.510000</td>\n",
       "    </tr>\n",
       "    <tr>\n",
       "      <th>50%</th>\n",
       "      <td>882.380000</td>\n",
       "      <td>913.360000</td>\n",
       "      <td>-215.260000</td>\n",
       "      <td>-198.560000</td>\n",
       "      <td>871.525000</td>\n",
       "      <td>-169.460000</td>\n",
       "    </tr>\n",
       "    <tr>\n",
       "      <th>75%</th>\n",
       "      <td>901.110000</td>\n",
       "      <td>943.660000</td>\n",
       "      <td>-170.130000</td>\n",
       "      <td>-143.640000</td>\n",
       "      <td>899.300000</td>\n",
       "      <td>-136.290000</td>\n",
       "    </tr>\n",
       "    <tr>\n",
       "      <th>max</th>\n",
       "      <td>1157.630000</td>\n",
       "      <td>1375.000000</td>\n",
       "      <td>40.270000</td>\n",
       "      <td>488.860000</td>\n",
       "      <td>1375.000000</td>\n",
       "      <td>41.640000</td>\n",
       "    </tr>\n",
       "  </tbody>\n",
       "</table>\n",
       "</div>"
      ],
      "text/plain": [
       "       Cyclone_Inlet_Gas_Temp  Cyclone_Material_Temp  \\\n",
       "count           376399.000000          376128.000000   \n",
       "mean               727.348549             750.830483   \n",
       "std                328.664814             350.921068   \n",
       "min                  0.000000            -185.000000   \n",
       "25%                856.270000             867.667500   \n",
       "50%                882.380000             913.360000   \n",
       "75%                901.110000             943.660000   \n",
       "max               1157.630000            1375.000000   \n",
       "\n",
       "       Cyclone_Outlet_Gas_draft  Cyclone_cone_draft  Cyclone_Gas_Outlet_Temp  \\\n",
       "count             376398.000000       376399.000000            376398.000000   \n",
       "mean                -177.820685         -164.572619               715.759972   \n",
       "std                   99.147236           90.103023               325.346446   \n",
       "min                 -456.660000         -459.310000                13.790000   \n",
       "25%                 -247.190000         -226.770000               801.960000   \n",
       "50%                 -215.260000         -198.560000               871.525000   \n",
       "75%                 -170.130000         -143.640000               899.300000   \n",
       "max                   40.270000          488.860000              1375.000000   \n",
       "\n",
       "       Cyclone_Inlet_Draft  \n",
       "count        376397.000000  \n",
       "mean           -141.302857  \n",
       "std              77.615576  \n",
       "min            -396.370000  \n",
       "25%            -193.510000  \n",
       "50%            -169.460000  \n",
       "75%            -136.290000  \n",
       "max              41.640000  "
      ]
     },
     "execution_count": 51,
     "metadata": {},
     "output_type": "execute_result"
    }
   ],
   "source": [
    "df.describe()"
   ]
  },
  {
   "cell_type": "code",
   "execution_count": 82,
   "id": "d79be2e2",
   "metadata": {},
   "outputs": [
    {
     "name": "stdout",
     "output_type": "stream",
     "text": [
      "<class 'pandas.core.frame.DataFrame'>\n",
      "RangeIndex: 377719 entries, 0 to 377718\n",
      "Data columns (total 6 columns):\n",
      " #   Column                    Non-Null Count   Dtype  \n",
      "---  ------                    --------------   -----  \n",
      " 0   Cyclone_Inlet_Gas_Temp    376399 non-null  float64\n",
      " 1   Cyclone_Material_Temp     376128 non-null  float64\n",
      " 2   Cyclone_Outlet_Gas_draft  376398 non-null  float64\n",
      " 3   Cyclone_cone_draft        376399 non-null  float64\n",
      " 4   Cyclone_Gas_Outlet_Temp   376398 non-null  float64\n",
      " 5   Cyclone_Inlet_Draft       376397 non-null  float64\n",
      "dtypes: float64(6)\n",
      "memory usage: 17.3 MB\n"
     ]
    }
   ],
   "source": [
    "df.info()"
   ]
  },
  {
   "cell_type": "markdown",
   "id": "187115bf",
   "metadata": {},
   "source": [
    "Observation: We can observe that there are some null values in the dataset \n",
    "So, we can fill those values using median values"
   ]
  },
  {
   "cell_type": "code",
   "execution_count": 85,
   "id": "dbe438f7",
   "metadata": {},
   "outputs": [],
   "source": [
    "df=df.fillna(df.median())"
   ]
  },
  {
   "cell_type": "code",
   "execution_count": 86,
   "id": "cf23c6fb",
   "metadata": {},
   "outputs": [
    {
     "name": "stdout",
     "output_type": "stream",
     "text": [
      "<class 'pandas.core.frame.DataFrame'>\n",
      "RangeIndex: 377719 entries, 0 to 377718\n",
      "Data columns (total 6 columns):\n",
      " #   Column                    Non-Null Count   Dtype  \n",
      "---  ------                    --------------   -----  \n",
      " 0   Cyclone_Inlet_Gas_Temp    377719 non-null  float64\n",
      " 1   Cyclone_Material_Temp     377719 non-null  float64\n",
      " 2   Cyclone_Outlet_Gas_draft  377719 non-null  float64\n",
      " 3   Cyclone_cone_draft        377719 non-null  float64\n",
      " 4   Cyclone_Gas_Outlet_Temp   377719 non-null  float64\n",
      " 5   Cyclone_Inlet_Draft       377719 non-null  float64\n",
      "dtypes: float64(6)\n",
      "memory usage: 17.3 MB\n"
     ]
    }
   ],
   "source": [
    "df.info()"
   ]
  },
  {
   "cell_type": "code",
   "execution_count": 88,
   "id": "6e86456f",
   "metadata": {},
   "outputs": [
    {
     "data": {
      "text/plain": [
       "<AxesSubplot:xlabel='Cyclone_Inlet_Draft', ylabel='Density'>"
      ]
     },
     "execution_count": 88,
     "metadata": {},
     "output_type": "execute_result"
    },
    {
     "data": {
      "image/png": "[encoded data removed]",
      "text/plain": [
       "<Figure size 1080x360 with 6 Axes>"
      ]
     },
     "metadata": {
      "needs_background": "light"
     },
     "output_type": "display_data"
    }
   ],
   "source": [
    "plt.figure(figsize=[15,5])\n",
    "plt.subplot(2,3,1)\n",
    "sns.distplot(df.iloc[:,0])\n",
    "plt.subplot(2,3,2)\n",
    "sns.distplot(df.iloc[:,1])\n",
    "plt.subplot(2,3,3)\n",
    "sns.distplot(df.iloc[:,2])\n",
    "\n",
    "plt.subplot(2,3,4)\n",
    "sns.distplot(df.iloc[:,3])\n",
    "plt.subplot(2,3,5)\n",
    "sns.distplot(df.iloc[:,4])\n",
    "plt.subplot(2,3,6)\n",
    "sns.distplot(df.iloc[:,5])"
   ]
  },
  {
   "cell_type": "code",
   "execution_count": 89,
   "id": "a5acb7db",
   "metadata": {},
   "outputs": [
    {
     "data": {
      "text/plain": [
       "<AxesSubplot:xlabel='Cyclone_Inlet_Draft'>"
      ]
     },
     "execution_count": 89,
     "metadata": {},
     "output_type": "execute_result"
    },
    {
     "data": {
      "image/png": "[encoded data removed]",
      "text/plain": [
       "<Figure size 1440x720 with 6 Axes>"
      ]
     },
     "metadata": {
      "needs_background": "light"
     },
     "output_type": "display_data"
    }
   ],
   "source": [
    "plt.figure(figsize=[20,10])\n",
    "plt.subplot(3,2,1)\n",
    "sns.boxplot(x=df.iloc[:,0])\n",
    "plt.subplot(3,2,2)\n",
    "sns.boxplot(x=df.iloc[:,1])\n",
    "plt.subplot(3,2,3)\n",
    "sns.boxplot(x=df.iloc[:,2])\n",
    "plt.subplot(3,2,4)\n",
    "sns.boxplot(x=df.iloc[:,3])\n",
    "plt.subplot(3,2,5)\n",
    "sns.boxplot(x=df.iloc[:,4])\n",
    "plt.subplot(3,2,6)\n",
    "sns.boxplot(x=df.iloc[:,5])"
   ]
  },
  {
   "cell_type": "code",
   "execution_count": null,
   "id": "01302d89",
   "metadata": {},
   "outputs": [],
   "source": []
  }
 ],
 "metadata": {
  "kernelspec": {
   "display_name": "Python 3",
   "language": "python",
   "name": "python3"
  },
  "language_info": {
   "codemirror_mode": {
    "name": "ipython",
    "version": 3
   },
   "file_extension": ".py",
   "mimetype": "text/x-python",
   "name": "python",
   "nbconvert_exporter": "python",
   "pygments_lexer": "ipython3",
   "version": "3.8.8"
  }
 },
 "nbformat": 4,
 "nbformat_minor": 5
}
